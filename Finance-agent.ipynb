{
 "cells": [
  {
   "cell_type": "code",
   "execution_count": 22,
   "id": "initial_id",
   "metadata": {
    "ExecuteTime": {
     "end_time": "2025-03-25T11:32:17.143597Z",
     "start_time": "2025-03-25T11:32:16.448761Z"
    },
    "collapsed": true
   },
   "outputs": [
    {
     "name": "stdout",
     "output_type": "stream",
     "text": [
      "Requirement already satisfied: yfinance in ./langgraph/lib/python3.12/site-packages (0.2.55)\r\n",
      "Requirement already satisfied: pandas>=1.3.0 in ./langgraph/lib/python3.12/site-packages (from yfinance) (2.2.3)\r\n",
      "Requirement already satisfied: numpy>=1.16.5 in ./langgraph/lib/python3.12/site-packages (from yfinance) (2.2.4)\r\n",
      "Requirement already satisfied: requests>=2.31 in ./langgraph/lib/python3.12/site-packages (from yfinance) (2.32.3)\r\n",
      "Requirement already satisfied: multitasking>=0.0.7 in ./langgraph/lib/python3.12/site-packages (from yfinance) (0.0.11)\r\n",
      "Requirement already satisfied: platformdirs>=2.0.0 in ./langgraph/lib/python3.12/site-packages (from yfinance) (4.3.7)\r\n",
      "Requirement already satisfied: pytz>=2022.5 in ./langgraph/lib/python3.12/site-packages (from yfinance) (2025.2)\r\n",
      "Requirement already satisfied: frozendict>=2.3.4 in ./langgraph/lib/python3.12/site-packages (from yfinance) (2.4.6)\r\n",
      "Requirement already satisfied: peewee>=3.16.2 in ./langgraph/lib/python3.12/site-packages (from yfinance) (3.17.9)\r\n",
      "Requirement already satisfied: beautifulsoup4>=4.11.1 in ./langgraph/lib/python3.12/site-packages (from yfinance) (4.13.3)\r\n",
      "Requirement already satisfied: soupsieve>1.2 in ./langgraph/lib/python3.12/site-packages (from beautifulsoup4>=4.11.1->yfinance) (2.6)\r\n",
      "Requirement already satisfied: typing-extensions>=4.0.0 in ./langgraph/lib/python3.12/site-packages (from beautifulsoup4>=4.11.1->yfinance) (4.12.2)\r\n",
      "Requirement already satisfied: python-dateutil>=2.8.2 in ./langgraph/lib/python3.12/site-packages (from pandas>=1.3.0->yfinance) (2.9.0.post0)\r\n",
      "Requirement already satisfied: tzdata>=2022.7 in ./langgraph/lib/python3.12/site-packages (from pandas>=1.3.0->yfinance) (2025.2)\r\n",
      "Requirement already satisfied: charset-normalizer<4,>=2 in ./langgraph/lib/python3.12/site-packages (from requests>=2.31->yfinance) (3.4.1)\r\n",
      "Requirement already satisfied: idna<4,>=2.5 in ./langgraph/lib/python3.12/site-packages (from requests>=2.31->yfinance) (3.10)\r\n",
      "Requirement already satisfied: urllib3<3,>=1.21.1 in ./langgraph/lib/python3.12/site-packages (from requests>=2.31->yfinance) (2.3.0)\r\n",
      "Requirement already satisfied: certifi>=2017.4.17 in ./langgraph/lib/python3.12/site-packages (from requests>=2.31->yfinance) (2025.1.31)\r\n",
      "Requirement already satisfied: six>=1.5 in ./langgraph/lib/python3.12/site-packages (from python-dateutil>=2.8.2->pandas>=1.3.0->yfinance) (1.17.0)\r\n",
      "\r\n",
      "\u001b[1m[\u001b[0m\u001b[34;49mnotice\u001b[0m\u001b[1;39;49m]\u001b[0m\u001b[39;49m A new release of pip is available: \u001b[0m\u001b[31;49m24.2\u001b[0m\u001b[39;49m -> \u001b[0m\u001b[32;49m25.0.1\u001b[0m\r\n",
      "\u001b[1m[\u001b[0m\u001b[34;49mnotice\u001b[0m\u001b[1;39;49m]\u001b[0m\u001b[39;49m To update, run: \u001b[0m\u001b[32;49mpip install --upgrade pip\u001b[0m\r\n"
     ]
    }
   ],
   "source": [
    "!pip install yfinance\n",
    "# !pip install pygraphviz"
   ]
  },
  {
   "cell_type": "code",
   "execution_count": 2,
   "id": "ed56b6b194d17a86",
   "metadata": {
    "ExecuteTime": {
     "end_time": "2025-03-25T11:21:13.228345Z",
     "start_time": "2025-03-25T11:21:12.237010Z"
    }
   },
   "outputs": [],
   "source": [
    "#openAI Key"
   ]
  },
  {
   "cell_type": "code",
   "execution_count": 3,
   "id": "1820cc65a1c756",
   "metadata": {
    "ExecuteTime": {
     "end_time": "2025-03-25T11:22:05.930274Z",
     "start_time": "2025-03-25T11:21:58.881566Z"
    }
   },
   "outputs": [],
   "source": [
    "from langchain_core.tools import tool, StructuredTool\n",
    "import yfinance as yf\n",
    "\n",
    "@tool\n",
    "def company_address(ticker: str) -> str:\n",
    "    \"\"\"\n",
    "    Returns company address for input ticker.\n",
    "    e.g. company_address: AAPL\n",
    "    Returns company address for ticker AAPL which is stock ticker for Apple Inc.\n",
    "    \"\"\"\n",
    "    ticker_obj = yf.Ticker(ticker)\n",
    "    info = ticker_obj.get_info()\n",
    "\n",
    "    return \" \".join([info[key] for key in ['address1','city','state','zip','country']])\n",
    "\n",
    "@tool\n",
    "def fulltime_employees(ticker: str) -> int:\n",
    "    \"\"\"\n",
    "    Returns fulltime employees count for input ticker.\n",
    "    e.g. company_address: MSFT\n",
    "    Returns fulltime employees count for ticker MSFT which is stock ticker for Microsoft.\n",
    "    \"\"\"\n",
    "    ticker_obj = yf.Ticker(ticker)\n",
    "    info = ticker_obj.get_info()\n",
    "\n",
    "    return info['fullTimeEmployees']\n",
    "\n",
    "@tool\n",
    "def last_close_price(ticker: str) -> float:\n",
    "    \"\"\"\n",
    "    Returns last close price for input ticker.\n",
    "    e.g. company_address: MSFT\n",
    "    Returns last close price for ticker MSFT which is stock ticker for Microsoft.\n",
    "    \"\"\"\n",
    "    ticker_obj = yf.Ticker(ticker)\n",
    "    info = ticker_obj.get_info()\n",
    "\n",
    "    return info['previousClose']\n",
    "\n",
    "@tool\n",
    "def EBITDA(ticker: str) -> float:\n",
    "    \"\"\"\n",
    "    Returns EBITDA for input ticker.\n",
    "    e.g. company_address: AAPL\n",
    "    Returns EBITDA for ticker AAPL which is stock ticker for Apple Inc.\n",
    "    \"\"\"\n",
    "    ticker_obj = yf.Ticker(ticker)\n",
    "    info = ticker_obj.get_info()\n",
    "\n",
    "    return info['ebitda']\n",
    "\n",
    "@tool\n",
    "def total_debt(ticker: str) -> float:\n",
    "    \"\"\"\n",
    "    Returns total debt for input ticker.\n",
    "    e.g. company_address: AAPL\n",
    "    Returns total debt for ticker AAPL which is stock ticker for Apple Inc.\n",
    "    \"\"\"\n",
    "    ticker_obj = yf.Ticker(ticker)\n",
    "    info = ticker_obj.get_info()\n",
    "\n",
    "    return info['totalDebt']\n",
    "\n",
    "@tool\n",
    "def total_revenue(ticker: str) -> float:\n",
    "    \"\"\"\n",
    "    Returns total revenue for input ticker.\n",
    "    e.g. company_address: MSFT\n",
    "    Returns total revenue for ticker MSFT which is stock ticker for Microsoft.\n",
    "    \"\"\"\n",
    "    ticker_obj = yf.Ticker(ticker)\n",
    "    info = ticker_obj.get_info()\n",
    "\n",
    "    return info['totalRevenue']\n",
    "\n",
    "@tool\n",
    "def debt_to_equity_ratio(ticker: str) -> float:\n",
    "    \"\"\"\n",
    "    Returns debt to equity ratio for input ticker.\n",
    "    e.g. company_address: AAPL\n",
    "    Returns debt to equity ratio for ticker AAPL which is stock ticker for Apple Inc.\n",
    "    \"\"\"\n",
    "    ticker_obj = yf.Ticker(ticker)\n",
    "    info = ticker_obj.get_info()\n",
    "\n",
    "    return info['debtToEquity']\n",
    "\n",
    "tools = [\n",
    "    company_address,\n",
    "    fulltime_employees,\n",
    "    last_close_price,\n",
    "    EBITDA,\n",
    "    total_debt,\n",
    "    total_revenue,\n",
    "    debt_to_equity_ratio\n",
    "]"
   ]
  },
  {
   "cell_type": "code",
   "execution_count": 4,
   "id": "24eed87be222f0e0",
   "metadata": {
    "ExecuteTime": {
     "end_time": "2025-03-25T11:22:35.131654Z",
     "start_time": "2025-03-25T11:22:35.116952Z"
    }
   },
   "outputs": [],
   "source": [
    "llm_with_tools = llm.bind_tools(tools, tool_choice='auto')"
   ]
  },
  {
   "cell_type": "code",
   "execution_count": 5,
   "id": "5f95b535249e2a0c",
   "metadata": {
    "ExecuteTime": {
     "end_time": "2025-03-25T11:22:53.208930Z",
     "start_time": "2025-03-25T11:22:50.605914Z"
    }
   },
   "outputs": [
    {
     "name": "stdout",
     "output_type": "stream",
     "text": [
      "Hello! I'm here to help you with any questions or information you need. How can I assist you today?\n",
      "[]\n"
     ]
    }
   ],
   "source": [
    "ai_msg = llm_with_tools.invoke('Whatzzz up??')\n",
    "\n",
    "print(ai_msg.content)\n",
    "print(ai_msg.tool_calls)"
   ]
  },
  {
   "cell_type": "code",
   "execution_count": 6,
   "id": "9be4f786b3edd636",
   "metadata": {
    "ExecuteTime": {
     "end_time": "2025-03-25T11:23:15.510023Z",
     "start_time": "2025-03-25T11:23:13.914470Z"
    }
   },
   "outputs": [
    {
     "name": "stdout",
     "output_type": "stream",
     "text": [
      "\n",
      "[{'name': 'EBITDA', 'args': {'ticker': 'MSFT'}, 'id': 'call_zGKBFhTUBKnKhmrfE5r3rX97', 'type': 'tool_call'}]\n"
     ]
    }
   ],
   "source": [
    "ai_msg = llm_with_tools.invoke(\"What's the EBITDA of Microsoft?\")\n",
    "\n",
    "print(ai_msg.content)\n",
    "print(ai_msg.tool_calls)\n"
   ]
  },
  {
   "cell_type": "code",
   "execution_count": 7,
   "id": "8cc8db90f132a333",
   "metadata": {
    "ExecuteTime": {
     "end_time": "2025-03-25T11:23:50.302475Z",
     "start_time": "2025-03-25T11:23:42.526502Z"
    }
   },
   "outputs": [
    {
     "data": {
      "text/plain": [
       "142041006080"
      ]
     },
     "execution_count": 7,
     "metadata": {},
     "output_type": "execute_result"
    }
   ],
   "source": [
    "EBITDA.invoke(ai_msg.tool_calls[0]['args'])"
   ]
  },
  {
   "cell_type": "code",
   "execution_count": 8,
   "id": "bc180f728756a6f",
   "metadata": {
    "ExecuteTime": {
     "end_time": "2025-03-25T11:26:22.127947Z",
     "start_time": "2025-03-25T11:26:22.060757Z"
    }
   },
   "outputs": [],
   "source": [
    "from langgraph.graph import StateGraph, END\n",
    "from typing import TypedDict, Annotated\n",
    "import operator\n",
    "from langchain_core.messages import HumanMessage, AnyMessage, SystemMessage, ToolMessage\n",
    "\n",
    "class AgentState(TypedDict):\n",
    "    messages: Annotated[list[AnyMessage], operator.add]\n",
    "\n",
    "class ReActAgent:\n",
    "    def __init__(self, model, tools, system=\"\"):\n",
    "        self.system = system\n",
    "        self.tools = {t.name: t for t in tools}\n",
    "        self.model = model.bind_tools(tools, tool_choice=\"auto\")\n",
    "\n",
    "        graph = StateGraph(AgentState)\n",
    "        graph.add_node(\"llama3\", self.call_llm)\n",
    "        graph.add_node(\"action\", self.take_action)\n",
    "        graph.add_conditional_edges(\n",
    "            \"llama3\",\n",
    "            self.exists_action,\n",
    "            {True: \"action\", False: END}\n",
    "        )\n",
    "        graph.add_edge(\"action\", \"llama3\")\n",
    "        graph.set_entry_point(\"llama3\")\n",
    "        self.graph = graph.compile()\n",
    "\n",
    "    def exists_action(self, state: AgentState):\n",
    "        result = state['messages'][-1]\n",
    "        return len(result.tool_calls) > 0\n",
    "\n",
    "    def call_llm(self, state: AgentState):\n",
    "        messages = state['messages']\n",
    "        if self.system:\n",
    "            messages = [SystemMessage(content=self.system)] + messages\n",
    "        message = self.model.invoke(messages)\n",
    "        return {'messages': [message]}\n",
    "\n",
    "    def take_action(self, state: AgentState):\n",
    "        tool_calls = state['messages'][-1].tool_calls\n",
    "        results = []\n",
    "        for t in tool_calls:\n",
    "            print(f\"Calling Tool : {t}\")\n",
    "            if not t['name'] in self.tools:\n",
    "                print(f\"\\n Tool : {t} does not exist.\")\n",
    "                result = \"Incorrect Tool Name, Please retry and select tool from available tools.\"\n",
    "            else:\n",
    "                result = self.tools[t['name']].invoke(t['args'])\n",
    "            results.append(ToolMessage(tool_call_id = t['id'], name = t['name'], content = str(result)))\n",
    "        print(\"Tool execution is completed. Back to the model!\")\n",
    "        return {'messages' : results}"
   ]
  },
  {
   "cell_type": "code",
   "execution_count": 9,
   "id": "2bbb1e4ac1eca6e9",
   "metadata": {
    "ExecuteTime": {
     "end_time": "2025-03-25T11:26:36.751762Z",
     "start_time": "2025-03-25T11:26:36.730872Z"
    }
   },
   "outputs": [],
   "source": [
    "prompt = \"\"\"\n",
    "You are a smart AI finance assistant. Use the list of available tools to answer questions if needed.\n",
    "You are allowed to make multiple calls (either together or in sequence).\n",
    "If you need to look up some information before asking a follow up question, you are allowed to do that!\n",
    "\"\"\"\n",
    "\n",
    "agent = ReActAgent(llm, tools, system=prompt)"
   ]
  },
  {
   "cell_type": "code",
   "execution_count": 11,
   "id": "18963d68ab38549",
   "metadata": {
    "ExecuteTime": {
     "end_time": "2025-03-25T11:27:57.004717Z",
     "start_time": "2025-03-25T11:27:54.364386Z"
    }
   },
   "outputs": [
    {
     "data": {
      "text/plain": [
       "\"Hello! I'm here to assist you with any financial inquiries or tasks you have. How can I help you today?\""
      ]
     },
     "execution_count": 11,
     "metadata": {},
     "output_type": "execute_result"
    }
   ],
   "source": [
    "messages = [HumanMessage(content=\"What's up Llama 3.1?\")]\n",
    "\n",
    "result = agent.graph.invoke({'messages': messages})\n",
    "\n",
    "result['messages'][-1].content"
   ]
  },
  {
   "cell_type": "code",
   "execution_count": 17,
   "id": "8ce5c2e21d30c581",
   "metadata": {
    "ExecuteTime": {
     "end_time": "2025-03-25T11:30:15.615726Z",
     "start_time": "2025-03-25T11:30:09.929198Z"
    }
   },
   "outputs": [
    {
     "name": "stdout",
     "output_type": "stream",
     "text": [
      "Calling Tool : {'name': 'EBITDA', 'args': {'ticker': 'TGT'}, 'id': 'call_eKBYzK5uincTMXvCkv6ByZy5', 'type': 'tool_call'}\n",
      "Calling Tool : {'name': 'last_close_price', 'args': {'ticker': 'TGT'}, 'id': 'call_Wo2SwZE89h1mPyPUOUj1Eu25', 'type': 'tool_call'}\n",
      "Tool execution is completed. Back to the model!\n"
     ]
    }
   ],
   "source": [
    "messages = [HumanMessage(content=\"What is the EBITDA of Target and its last close price?\")]\n",
    "\n",
    "result = agent.graph.invoke({'messages': messages})"
   ]
  },
  {
   "cell_type": "code",
   "execution_count": 18,
   "id": "28c447e765d1439",
   "metadata": {
    "ExecuteTime": {
     "end_time": "2025-03-25T11:30:16.427651Z",
     "start_time": "2025-03-25T11:30:16.423958Z"
    }
   },
   "outputs": [
    {
     "name": "stdout",
     "output_type": "stream",
     "text": [
      "================================\u001b[1m Human Message \u001b[0m=================================\n",
      "\n",
      "What is the EBITDA of Target and its last close price?\n",
      "==================================\u001b[1m Ai Message \u001b[0m==================================\n",
      "Tool Calls:\n",
      "  EBITDA (call_eKBYzK5uincTMXvCkv6ByZy5)\n",
      " Call ID: call_eKBYzK5uincTMXvCkv6ByZy5\n",
      "  Args:\n",
      "    ticker: TGT\n",
      "  last_close_price (call_Wo2SwZE89h1mPyPUOUj1Eu25)\n",
      " Call ID: call_Wo2SwZE89h1mPyPUOUj1Eu25\n",
      "  Args:\n",
      "    ticker: TGT\n",
      "=================================\u001b[1m Tool Message \u001b[0m=================================\n",
      "Name: EBITDA\n",
      "\n",
      "8720000000\n",
      "=================================\u001b[1m Tool Message \u001b[0m=================================\n",
      "Name: last_close_price\n",
      "\n",
      "104.06\n",
      "==================================\u001b[1m Ai Message \u001b[0m==================================\n",
      "\n",
      "Target's EBITDA is $8.72 billion, and its last close price is $104.06.\n"
     ]
    }
   ],
   "source": [
    "for m in result[\"messages\"]:\n",
    "    m.pretty_print()"
   ]
  },
  {
   "cell_type": "code",
   "execution_count": 19,
   "id": "548728dd2b059598",
   "metadata": {
    "ExecuteTime": {
     "end_time": "2025-03-25T11:31:03.253528Z",
     "start_time": "2025-03-25T11:31:03.247671Z"
    }
   },
   "outputs": [
    {
     "data": {
      "text/plain": [
       "\"Target's EBITDA is $8.72 billion, and its last close price is $104.06.\""
      ]
     },
     "execution_count": 19,
     "metadata": {},
     "output_type": "execute_result"
    }
   ],
   "source": [
    "result['messages'][-1].content"
   ]
  },
  {
   "cell_type": "code",
   "execution_count": 20,
   "id": "13d069c4dacb8321",
   "metadata": {
    "ExecuteTime": {
     "end_time": "2025-03-25T11:31:30.408318Z",
     "start_time": "2025-03-25T11:31:22.214010Z"
    }
   },
   "outputs": [
    {
     "name": "stdout",
     "output_type": "stream",
     "text": [
      "Calling Tool : {'name': 'total_revenue', 'args': {'ticker': 'AMZN'}, 'id': 'call_o6x9V4nhCZDkkgObiUq55U4L', 'type': 'tool_call'}\n",
      "Calling Tool : {'name': 'total_revenue', 'args': {'ticker': 'GOOGL'}, 'id': 'call_FI9IybZkmPq0rQJJibgSSt60', 'type': 'tool_call'}\n",
      "Tool execution is completed. Back to the model!\n"
     ]
    }
   ],
   "source": [
    "messages = [HumanMessage(content=\"Compare total revenue of Amazon and Google.\")]\n",
    "\n",
    "result = agent.graph.invoke({'messages': messages})\n"
   ]
  },
  {
   "cell_type": "code",
   "execution_count": 21,
   "id": "3e9f69d4e5d97934",
   "metadata": {
    "ExecuteTime": {
     "end_time": "2025-03-25T11:31:39.838125Z",
     "start_time": "2025-03-25T11:31:39.835343Z"
    }
   },
   "outputs": [
    {
     "data": {
      "text/plain": [
       "'The total revenue of Amazon (AMZN) is $637.959 billion, while the total revenue of Google (GOOGL) is $350.018 billion.'"
      ]
     },
     "execution_count": 21,
     "metadata": {},
     "output_type": "execute_result"
    }
   ],
   "source": [
    "result['messages'][-1].content"
   ]
  },
  {
   "cell_type": "code",
   "execution_count": null,
   "id": "57172c82611224c1",
   "metadata": {},
   "outputs": [],
   "source": []
  }
 ],
 "metadata": {
  "kernelspec": {
   "display_name": "Python 3",
   "language": "python",
   "name": "python3"
  },
  "language_info": {
   "codemirror_mode": {
    "name": "ipython",
    "version": 2
   },
   "file_extension": ".py",
   "mimetype": "text/x-python",
   "name": "python",
   "nbconvert_exporter": "python",
   "pygments_lexer": "ipython2",
   "version": "2.7.6"
  }
 },
 "nbformat": 4,
 "nbformat_minor": 5
}
