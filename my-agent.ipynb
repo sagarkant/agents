{
 "cells": [
  {
   "cell_type": "code",
   "execution_count": 2,
   "id": "initial_id",
   "metadata": {
    "ExecuteTime": {
     "end_time": "2025-03-24T08:02:22.671765Z",
     "start_time": "2025-03-24T08:02:21.865444Z"
    },
    "collapsed": true
   },
   "outputs": [],
   "source": [
    "from langchain_openai import ChatOpenAI\n",
    "from langgraph_supervisor import create_supervisor\n",
    "from langgraph.prebuilt import create_react_agent"
   ]
  },
  {
   "cell_type": "code",
   "execution_count": 3,
   "id": "a208ba5b08c4b5c4",
   "metadata": {
    "ExecuteTime": {
     "end_time": "2025-03-24T08:02:22.725201Z",
     "start_time": "2025-03-24T08:02:22.676125Z"
    }
   },
   "outputs": [],
   "source": [
    "# OpenAI Key"
   ]
  },
  {
   "cell_type": "code",
   "execution_count": 4,
   "id": "1d573818cd5535fd",
   "metadata": {
    "ExecuteTime": {
     "end_time": "2025-03-24T08:02:23.421729Z",
     "start_time": "2025-03-24T08:02:23.417685Z"
    }
   },
   "outputs": [],
   "source": [
    "model=llm"
   ]
  },
  {
   "cell_type": "code",
   "execution_count": 12,
   "id": "4281c6b36b64a57a",
   "metadata": {
    "ExecuteTime": {
     "end_time": "2025-03-24T08:11:45.875599Z",
     "start_time": "2025-03-24T08:11:36.120307Z"
    }
   },
   "outputs": [
    {
     "name": "stdout",
     "output_type": "stream",
     "text": [
      "================================\u001b[1m Human Message \u001b[0m=================================\n",
      "\n",
      "What is the multiplication of 2 with temperature in Kolar today ?\n",
      "==================================\u001b[1m Ai Message \u001b[0m==================================\n",
      "Name: supervisor\n",
      "Tool Calls:\n",
      "  transfer_to_current_weather (call_l5RlD6H0JoXwcxD4jY5EKaPC)\n",
      " Call ID: call_l5RlD6H0JoXwcxD4jY5EKaPC\n",
      "  Args:\n",
      "=================================\u001b[1m Tool Message \u001b[0m=================================\n",
      "Name: transfer_to_current_weather\n",
      "\n",
      "Successfully transferred to current_weather\n",
      "==================================\u001b[1m Ai Message \u001b[0m==================================\n",
      "Name: current_weather\n",
      "\n",
      "Today, the temperature in Bangalore is 39°C. \n",
      "\n",
      "So, the multiplication of 2 with 39 is:\n",
      "\\( 2 \\times 39 = 78 \\)\n",
      "==================================\u001b[1m Ai Message \u001b[0m==================================\n",
      "Name: current_weather\n",
      "\n",
      "Transferring back to supervisor\n",
      "Tool Calls:\n",
      "  transfer_back_to_supervisor (e543d0a8-9ca2-49c2-b382-5bc976f3cc16)\n",
      " Call ID: e543d0a8-9ca2-49c2-b382-5bc976f3cc16\n",
      "  Args:\n",
      "=================================\u001b[1m Tool Message \u001b[0m=================================\n",
      "Name: transfer_back_to_supervisor\n",
      "\n",
      "Successfully transferred back to supervisor\n",
      "==================================\u001b[1m Ai Message \u001b[0m==================================\n",
      "Name: supervisor\n",
      "\n",
      "Today, the temperature in Kolar is 39°C. \n",
      "\n",
      "Now, I will transfer the query to the math expert for the multiplication calculation.\n",
      "Tool Calls:\n",
      "  transfer_to_math (call_hCnXvBu8ITNf84yCcjebuF64)\n",
      " Call ID: call_hCnXvBu8ITNf84yCcjebuF64\n",
      "  Args:\n",
      "=================================\u001b[1m Tool Message \u001b[0m=================================\n",
      "Name: transfer_to_math\n",
      "\n",
      "Successfully transferred to Math\n",
      "==================================\u001b[1m Ai Message \u001b[0m==================================\n",
      "Name: Math\n",
      "\n",
      "The multiplication of 2 with the temperature in Kolar (which is 39°C) is 78.\n",
      "==================================\u001b[1m Ai Message \u001b[0m==================================\n",
      "Name: Math\n",
      "\n",
      "Transferring back to supervisor\n",
      "Tool Calls:\n",
      "  transfer_back_to_supervisor (b944d786-f22f-4bd9-96e6-e9a4880d0524)\n",
      " Call ID: b944d786-f22f-4bd9-96e6-e9a4880d0524\n",
      "  Args:\n",
      "=================================\u001b[1m Tool Message \u001b[0m=================================\n",
      "Name: transfer_back_to_supervisor\n",
      "\n",
      "Successfully transferred back to supervisor\n",
      "==================================\u001b[1m Ai Message \u001b[0m==================================\n",
      "Name: supervisor\n",
      "\n",
      "The multiplication of 2 with the temperature in Kolar today, which is 39°C, is:\n",
      "\\[ 2 \\times 39 = 78 \\]\n"
     ]
    }
   ],
   "source": [
    "# create specialized\n",
    "def subtract (a:float, b:float) -> float:\n",
    "    \"\"\"subtract 2 numbers\"\"\"\n",
    "    return a-b\n",
    "def multiply(a:float, b:float) -> float:\n",
    "    \"\"\"multiply 2 numbers\"\"\"\n",
    "    return a*b\n",
    "def joke():\n",
    "    \n",
    "    \"\"\"Search the web for information.\"\"\"\n",
    "    return (\"its a funny joke\"\n",
    "            )\n",
    "def current_weather(message):\n",
    "    \n",
    "    \"\"\"Search the web for information.\"\"\"\n",
    "    return (\"Today its 39 in Bengaluru\"\n",
    "            )\n",
    "\n",
    "math_agent=create_react_agent(\n",
    "    model=model,\n",
    "    tools=[subtract,multiply],\n",
    "    name=\"Math\",\n",
    "    prompt=\"You are a math expert. Always use one tool at a time\"\n",
    ")\n",
    "joke_agent=create_react_agent(\n",
    "    model=model,\n",
    "    tools=[joke],\n",
    "    name=\"joke\",\n",
    "    prompt=\"You are a Joke expert. Always use one tool at a time.\"   \n",
    "    )\n",
    "weather_agent=create_react_agent(\n",
    "    model=model,\n",
    "    tools=[current_weather],\n",
    "    name=\"current_weather\",\n",
    "    prompt=\"You are a weather expert. Always use one tool at a time.\" \n",
    ")\n",
    "workflow=create_supervisor(\n",
    "    [math_agent,joke_agent,weather_agent],\n",
    "    model=model,\n",
    "    prompt=(\n",
    "        \"You are a team supervisor managing a math expert , joke expert and weather expert . \"\n",
    "        \"For math use math_agent \"\n",
    "        \"For joke use joke_agent \"\n",
    "        \"For weather use weather_agent \"\n",
    "        \n",
    "    )\n",
    ")\n",
    "# Compile and run\n",
    "app = workflow.compile()\n",
    "result = app.invoke({\n",
    "    \"messages\": [\n",
    "        {\n",
    "            \"role\": \"user\",\n",
    "            \"content\": \"What is the multiplication of 2 with temperature in Kolar today ?\"\n",
    "        }\n",
    "    ]\n",
    "})\n",
    "for m in result[\"messages\"]:\n",
    "    m.pretty_print()"
   ]
  },
  {
   "cell_type": "code",
   "execution_count": 13,
   "id": "96ad12184dfea32c",
   "metadata": {
    "ExecuteTime": {
     "end_time": "2025-03-24T08:13:06.774665Z",
     "start_time": "2025-03-24T08:12:58.090708Z"
    }
   },
   "outputs": [],
   "source": [
    "app = workflow.compile()\n",
    "result = app.invoke({\n",
    "    \"messages\": [\n",
    "        {\n",
    "            \"role\": \"user\",\n",
    "            \"content\": \"Give me a Joke on temperature in Kolar today ?\"\n",
    "        }\n",
    "    ]\n",
    "})"
   ]
  },
  {
   "cell_type": "code",
   "execution_count": 14,
   "id": "b683ead8a0713bf7",
   "metadata": {
    "ExecuteTime": {
     "end_time": "2025-03-24T08:13:16.812924Z",
     "start_time": "2025-03-24T08:13:16.809685Z"
    }
   },
   "outputs": [
    {
     "name": "stdout",
     "output_type": "stream",
     "text": [
      "================================\u001b[1m Human Message \u001b[0m=================================\n",
      "\n",
      "Give me a Joke on temperature in Kolar today ?\n",
      "==================================\u001b[1m Ai Message \u001b[0m==================================\n",
      "Name: supervisor\n",
      "Tool Calls:\n",
      "  transfer_to_joke (call_kMN6xoPo51SiSNWq4QTOVIrE)\n",
      " Call ID: call_kMN6xoPo51SiSNWq4QTOVIrE\n",
      "  Args:\n",
      "=================================\u001b[1m Tool Message \u001b[0m=================================\n",
      "Name: transfer_to_joke\n",
      "\n",
      "Successfully transferred to joke\n",
      "==================================\u001b[1m Ai Message \u001b[0m==================================\n",
      "Name: joke\n",
      "\n",
      "Why don't meteorologists in Kolar need to buy a sauna? \n",
      "\n",
      "Because with today's temperature, they get a sauna experience for free! 🌞😅\n",
      "==================================\u001b[1m Ai Message \u001b[0m==================================\n",
      "Name: joke\n",
      "\n",
      "Transferring back to supervisor\n",
      "Tool Calls:\n",
      "  transfer_back_to_supervisor (8ca509ba-6804-4d67-9f5e-d8da6791459b)\n",
      " Call ID: 8ca509ba-6804-4d67-9f5e-d8da6791459b\n",
      "  Args:\n",
      "=================================\u001b[1m Tool Message \u001b[0m=================================\n",
      "Name: transfer_back_to_supervisor\n",
      "\n",
      "Successfully transferred back to supervisor\n",
      "==================================\u001b[1m Ai Message \u001b[0m==================================\n",
      "Name: supervisor\n",
      "Tool Calls:\n",
      "  transfer_to_current_weather (call_qmmlAUvYA8Q6TnNhGzQkU0Rc)\n",
      " Call ID: call_qmmlAUvYA8Q6TnNhGzQkU0Rc\n",
      "  Args:\n",
      "=================================\u001b[1m Tool Message \u001b[0m=================================\n",
      "Name: transfer_to_current_weather\n",
      "\n",
      "Successfully transferred to current_weather\n",
      "==================================\u001b[1m Ai Message \u001b[0m==================================\n",
      "Name: current_weather\n",
      "\n",
      "Why did the thermometer bring a laptop to Kolar? \n",
      "\n",
      "Because it heard the temperatures currently are so high, even the weather needs to chill with some cool online videos! 🌞😅\n",
      "==================================\u001b[1m Ai Message \u001b[0m==================================\n",
      "Name: current_weather\n",
      "\n",
      "Transferring back to supervisor\n",
      "Tool Calls:\n",
      "  transfer_back_to_supervisor (9bc844b1-fdef-4390-9128-e77789395212)\n",
      " Call ID: 9bc844b1-fdef-4390-9128-e77789395212\n",
      "  Args:\n",
      "=================================\u001b[1m Tool Message \u001b[0m=================================\n",
      "Name: transfer_back_to_supervisor\n",
      "\n",
      "Successfully transferred back to supervisor\n",
      "==================================\u001b[1m Ai Message \u001b[0m==================================\n",
      "Name: supervisor\n",
      "\n",
      "Why did the thermometer bring a laptop to Kolar? \n",
      "\n",
      "Because it heard the temperatures currently are so high, even the weather needs to chill with some cool online videos! 🌞😅\n"
     ]
    }
   ],
   "source": [
    "for m in result[\"messages\"]:\n",
    "    m.pretty_print()"
   ]
  },
  {
   "cell_type": "code",
   "execution_count": 19,
   "id": "7331997959471fbe",
   "metadata": {
    "ExecuteTime": {
     "end_time": "2025-03-24T08:17:08.944436Z",
     "start_time": "2025-03-24T08:16:57.399470Z"
    }
   },
   "outputs": [],
   "source": [
    "app = workflow.compile()\n",
    "result = app.invoke({\n",
    "    \"messages\": [\n",
    "        {\n",
    "            \"role\": \"user\",\n",
    "            \"content\": \"What is the subtraction of weather of Kolar and Bengaluru today ?\"\n",
    "        }\n",
    "    ]\n",
    "})"
   ]
  },
  {
   "cell_type": "code",
   "execution_count": 20,
   "id": "a0ee7d6eb56da02",
   "metadata": {
    "ExecuteTime": {
     "end_time": "2025-03-24T08:17:11.635776Z",
     "start_time": "2025-03-24T08:17:11.632146Z"
    }
   },
   "outputs": [
    {
     "name": "stdout",
     "output_type": "stream",
     "text": [
      "================================\u001b[1m Human Message \u001b[0m=================================\n",
      "\n",
      "What is the subtraction of weather of Kolar and Bengaluru today ?\n",
      "==================================\u001b[1m Ai Message \u001b[0m==================================\n",
      "Name: supervisor\n",
      "Tool Calls:\n",
      "  transfer_to_current_weather (call_B2ppoEOJcUgukCQhjjXh0u3C)\n",
      " Call ID: call_B2ppoEOJcUgukCQhjjXh0u3C\n",
      "  Args:\n",
      "=================================\u001b[1m Tool Message \u001b[0m=================================\n",
      "Name: transfer_to_current_weather\n",
      "\n",
      "Successfully transferred to current_weather\n",
      "==================================\u001b[1m Ai Message \u001b[0m==================================\n",
      "Name: current_weather\n",
      "\n",
      "The weather of Kolar and Bengaluru today is the same at 39 degrees Celsius. Therefore, the subtraction of their temperatures is 0 degrees.\n",
      "==================================\u001b[1m Ai Message \u001b[0m==================================\n",
      "Name: current_weather\n",
      "\n",
      "Transferring back to supervisor\n",
      "Tool Calls:\n",
      "  transfer_back_to_supervisor (8cf3b703-8b77-46e8-a6d0-993a2b18c632)\n",
      " Call ID: 8cf3b703-8b77-46e8-a6d0-993a2b18c632\n",
      "  Args:\n",
      "=================================\u001b[1m Tool Message \u001b[0m=================================\n",
      "Name: transfer_back_to_supervisor\n",
      "\n",
      "Successfully transferred back to supervisor\n",
      "==================================\u001b[1m Ai Message \u001b[0m==================================\n",
      "Name: supervisor\n",
      "\n",
      "The temperatures of Kolar and Bengaluru today are both 39 degrees Celsius. Therefore, the subtraction of their temperatures is:\n",
      "\n",
      "\\[ 39^\\circ C - 39^\\circ C = 0^\\circ C \\]\n"
     ]
    }
   ],
   "source": [
    "for m in result[\"messages\"]:\n",
    "    m.pretty_print()"
   ]
  },
  {
   "cell_type": "code",
   "execution_count": 22,
   "id": "ce954a5271c9ad0f",
   "metadata": {
    "ExecuteTime": {
     "end_time": "2025-03-24T08:19:17.454601Z",
     "start_time": "2025-03-24T08:19:05.786946Z"
    }
   },
   "outputs": [
    {
     "name": "stdout",
     "output_type": "stream",
     "text": [
      "================================\u001b[1m Human Message \u001b[0m=================================\n",
      "\n",
      "Get the weather of Kolar and Bengaluru today .What is the subtraction of Kolar temperature from Bengaluru Temperature ?\n",
      "==================================\u001b[1m Ai Message \u001b[0m==================================\n",
      "Name: supervisor\n",
      "Tool Calls:\n",
      "  transfer_to_current_weather (call_KKBREc7fXNf9QssAvtkl21Rw)\n",
      " Call ID: call_KKBREc7fXNf9QssAvtkl21Rw\n",
      "  Args:\n",
      "=================================\u001b[1m Tool Message \u001b[0m=================================\n",
      "Name: transfer_to_current_weather\n",
      "\n",
      "Successfully transferred to current_weather\n",
      "==================================\u001b[1m Ai Message \u001b[0m==================================\n",
      "Name: current_weather\n",
      "\n",
      "It appears there is an issue where the retrieved weather information for both Kolar and Bengaluru is showing as the same, which is likely incorrect.\n",
      "\n",
      "Unfortunately, I am unable to provide the subtraction of the temperatures with the retrieved data. Please try again later or use another source to check the current weather for accurate information.\n",
      "==================================\u001b[1m Ai Message \u001b[0m==================================\n",
      "Name: current_weather\n",
      "\n",
      "Transferring back to supervisor\n",
      "Tool Calls:\n",
      "  transfer_back_to_supervisor (e7933d8e-a951-485d-824d-84bd514e8b31)\n",
      " Call ID: e7933d8e-a951-485d-824d-84bd514e8b31\n",
      "  Args:\n",
      "=================================\u001b[1m Tool Message \u001b[0m=================================\n",
      "Name: transfer_back_to_supervisor\n",
      "\n",
      "Successfully transferred back to supervisor\n",
      "==================================\u001b[1m Ai Message \u001b[0m==================================\n",
      "Name: supervisor\n",
      "Tool Calls:\n",
      "  transfer_to_math (call_M64qxFYroRk7EfRU3ee4hh5I)\n",
      " Call ID: call_M64qxFYroRk7EfRU3ee4hh5I\n",
      "  Args:\n",
      "=================================\u001b[1m Tool Message \u001b[0m=================================\n",
      "Name: transfer_to_math\n",
      "\n",
      "Successfully transferred to Math\n",
      "==================================\u001b[1m Ai Message \u001b[0m==================================\n",
      "Name: Math\n",
      "\n",
      "It seems I am unable to retrieve the current weather information directly for you. However, If you provide the current temperatures of Kolar and Bengaluru, I can help with the subtraction.\n",
      "==================================\u001b[1m Ai Message \u001b[0m==================================\n",
      "Name: Math\n",
      "\n",
      "Transferring back to supervisor\n",
      "Tool Calls:\n",
      "  transfer_back_to_supervisor (9a1c3212-5d9b-47f0-a656-2dad6548d3d8)\n",
      " Call ID: 9a1c3212-5d9b-47f0-a656-2dad6548d3d8\n",
      "  Args:\n",
      "=================================\u001b[1m Tool Message \u001b[0m=================================\n",
      "Name: transfer_back_to_supervisor\n",
      "\n",
      "Successfully transferred back to supervisor\n",
      "==================================\u001b[1m Ai Message \u001b[0m==================================\n",
      "Name: supervisor\n",
      "\n",
      "It seems there was an issue with retrieving the current weather information. I recommend checking the latest weather data from a reliable source. Once you have the temperatures for Kolar and Bengaluru, I can assist you in calculating the difference.\n"
     ]
    }
   ],
   "source": [
    "app = workflow.compile()\n",
    "result = app.invoke({\n",
    "    \"messages\": [\n",
    "        {\n",
    "            \"role\": \"user\",\n",
    "            \"content\": \"Get the weather of Kolar and Bengaluru today .\"\n",
    "                       \"What is the subtraction of Kolar temperature from Bengaluru Temperature ?\"\n",
    "        }\n",
    "    ]\n",
    "})\n",
    "for m in result[\"messages\"]:\n",
    "    m.pretty_print()"
   ]
  },
  {
   "cell_type": "code",
   "execution_count": null,
   "id": "25a4ffbf8bb3ca8d",
   "metadata": {},
   "outputs": [],
   "source": []
  }
 ],
 "metadata": {
  "kernelspec": {
   "display_name": "Python 3",
   "language": "python",
   "name": "python3"
  },
  "language_info": {
   "codemirror_mode": {
    "name": "ipython",
    "version": 2
   },
   "file_extension": ".py",
   "mimetype": "text/x-python",
   "name": "python",
   "nbconvert_exporter": "python",
   "pygments_lexer": "ipython2",
   "version": "2.7.6"
  }
 },
 "nbformat": 4,
 "nbformat_minor": 5
}
